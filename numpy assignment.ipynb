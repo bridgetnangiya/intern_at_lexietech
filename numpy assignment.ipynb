{
 "cells": [
  {
   "cell_type": "code",
   "execution_count": null,
   "id": "6d1f3dbd",
   "metadata": {},
   "outputs": [],
   "source": [
    "# Data we will use in this exercise\n",
    "X = np.array([\n",
    "    [1, 52, 22, 2, 31, 65, 7, 8, 24, 10],\n",
    "    [12, 2322, 33, 1, 2, 3, 99, 24, 1, 42],\n",
    "    [623, 24, 3, 56, 5, 2, 7, 85, 22, 110],\n",
    "    [63, 4, 3, 4, 5, 64, 7, 82, 3, 20],\n",
    "    [48, 8, 3, 24, 57, 63, 7, 8, 9, 1032],\n",
    "    [33, 64, 0, 24, 5, 6, 72, 832, 3, 10],\n",
    "    [12, 242, 2, 11, 52, 63, 32, 8, 96, 2],\n",
    "    [13, 223, 52, 4, 35, 62, 7, 8, 9, 10],\n",
    "    [19, 2, 3, 149, 15, 6, 172, 2, 2, 11],\n",
    "    [34, 23, 32, 24, 54, 63, 1, 5, 92, 7]\n",
    "])"
   ]
  },
  {
   "cell_type": "code",
   "execution_count": 14,
   "id": "2850f651",
   "metadata": {},
   "outputs": [
    {
     "name": "stdout",
     "output_type": "stream",
     "text": [
      "Shape of X:  (10, 10)\n",
      "[  1  12 623  63  48  33  12  13  19  34]\n",
      "[34 23 32 24 54 63  1  5 92  7]\n",
      "33.5\n",
      "[   1 2322    3    4   57    6   32    8    2    7]\n",
      "479979.9600000001\n"
     ]
    }
   ],
   "source": [
    "import numpy as np\n",
    "\n",
    "\n",
    "# Obtain the shape of the array\n",
    "X = np.array([\n",
    "    [1, 52, 22, 2, 31, 65, 7, 8, 24, 10],\n",
    "    [12, 2322, 33, 1, 2, 3, 99, 24, 1, 42],\n",
    "    [623, 24, 3, 56, 5, 2, 7, 85, 22, 110],\n",
    "    [63, 4, 3, 4, 5, 64, 7, 82, 3, 20],\n",
    "    [48, 8, 3, 24, 57, 63, 7, 8, 9, 1032],\n",
    "    [33, 64, 0, 24, 5, 6, 72, 832, 3, 10],\n",
    "    [12, 242, 2, 11, 52, 63, 32, 8, 96, 2],\n",
    "    [13, 223, 52, 4, 35, 62, 7, 8, 9, 10],\n",
    "    [19, 2, 3, 149, 15, 6, 172, 2, 2, 11],\n",
    "    [34, 23, 32, 24, 54, 63, 1, 5, 92, 7]\n",
    "])\n",
    "\n",
    "print(\"Shape of X: \", X.shape)\n",
    "first_column = X[:,0]\n",
    "print(first_column)\n",
    "last_column = X[-1,:]\n",
    "print(last_column)\n",
    "last_row = X[-1,:]\n",
    "mean_last_row = np.mean(last_row)\n",
    "print(mean_last_row)\n",
    "D = np.diagonal(X)\n",
    "print(D)\n",
    "var = np.var(D)\n",
    "print(var)"
   ]
  },
  {
   "cell_type": "code",
   "execution_count": null,
   "id": "3ddef30b",
   "metadata": {},
   "outputs": [],
   "source": []
  },
  {
   "cell_type": "code",
   "execution_count": null,
   "id": "a39e7f75",
   "metadata": {},
   "outputs": [],
   "source": [
    "\n"
   ]
  },
  {
   "cell_type": "code",
   "execution_count": null,
   "id": "f668481c",
   "metadata": {},
   "outputs": [],
   "source": []
  }
 ],
 "metadata": {
  "kernelspec": {
   "display_name": "Python 3 (ipykernel)",
   "language": "python",
   "name": "python3"
  },
  "language_info": {
   "codemirror_mode": {
    "name": "ipython",
    "version": 3
   },
   "file_extension": ".py",
   "mimetype": "text/x-python",
   "name": "python",
   "nbconvert_exporter": "python",
   "pygments_lexer": "ipython3",
   "version": "3.9.13"
  }
 },
 "nbformat": 4,
 "nbformat_minor": 5
}
